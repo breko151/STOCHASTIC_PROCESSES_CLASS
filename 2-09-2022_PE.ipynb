{
 "cells": [
  {
   "cell_type": "markdown",
   "id": "af4deee1",
   "metadata": {},
   "source": [
    "## Suárez Pérez Juan Pablo "
   ]
  },
  {
   "cell_type": "markdown",
   "id": "502f3f47",
   "metadata": {},
   "source": [
    "1.- Create one vector, containning the sequence of numbers from -10 to 27. Print on the screen the seventh element."
   ]
  },
  {
   "cell_type": "code",
   "execution_count": 2,
   "id": "65597082",
   "metadata": {},
   "outputs": [
    {
     "name": "stdout",
     "output_type": "stream",
     "text": [
      "[-10, -9, -8, -7, -6, -5, -4, -3, -2, -1, 0, 1, 2, 3, 4, 5, 6, 7, 8, 9, 10, 11, 12, 13, 14, 15, 16, 17, 18, 19, 20, 21, 22, 23, 24, 25, 26, 27]\n"
     ]
    }
   ],
   "source": [
    "a = [i for i in range(-10, 28)]\n",
    "print(a)"
   ]
  },
  {
   "cell_type": "markdown",
   "id": "c99a3263",
   "metadata": {},
   "source": [
    "   2.- Create one vector, containning the sequence of numbers from 0 to 40. Then, create the vector \n",
    "     {3(5^n) −1 | n=0,..40 }."
   ]
  },
  {
   "cell_type": "code",
   "execution_count": 3,
   "id": "86806708",
   "metadata": {},
   "outputs": [
    {
     "name": "stdout",
     "output_type": "stream",
     "text": [
      "[0, 1, 2, 3, 4, 5, 6, 7, 8, 9, 10, 11, 12, 13, 14, 15, 16, 17, 18, 19, 20, 21, 22, 23, 24, 25, 26, 27, 28, 29, 30, 31, 32, 33, 34, 35, 36, 37, 38, 39, 40]\n",
      "\n",
      "[3, 15, 75, 375, 1875, 9375, 46875, 234375, 1171875, 5859375, 29296875, 146484375, 732421875, 3662109375, 18310546875, 91552734375, 457763671875, 2288818359375, 11444091796875, 57220458984375, 286102294921875, 1430511474609375, 7152557373046875, 35762786865234375, 178813934326171875, 894069671630859375, 4470348358154296875, 22351741790771484375, 111758708953857421875, 558793544769287109375, 2793967723846435546875, 13969838619232177734375, 69849193096160888671875, 349245965480804443359375, 1746229827404022216796875, 8731149137020111083984375, 43655745685100555419921875, 218278728425502777099609375, 1091393642127513885498046875, 5456968210637569427490234375, 27284841053187847137451171875]\n"
     ]
    }
   ],
   "source": [
    "b = [i for i in range(0, 41)]\n",
    "c = [3 * (5 ** i) for i in b]\n",
    "print(b)\n",
    "print()\n",
    "print(c)"
   ]
  },
  {
   "cell_type": "markdown",
   "id": "4010f22e",
   "metadata": {},
   "source": [
    "   3.- Consider the vector in the previous exercise.\n",
    "   \n",
    "           - choose the even numbers\n",
    "           - choose the odd numbers\n",
    "           - choose the even numbers, that are less than or equal to 100000 and greater than or equal to 1000"
   ]
  },
  {
   "cell_type": "code",
   "execution_count": 8,
   "id": "fe592d55",
   "metadata": {},
   "outputs": [
    {
     "name": "stdout",
     "output_type": "stream",
     "text": [
      "[]\n"
     ]
    }
   ],
   "source": [
    "# Even numbers\n",
    "even_numbers_c = [i for i in c if i % 2 == 0]\n",
    "print(even_numbers_c)"
   ]
  },
  {
   "cell_type": "code",
   "execution_count": 9,
   "id": "e103c94c",
   "metadata": {},
   "outputs": [
    {
     "name": "stdout",
     "output_type": "stream",
     "text": [
      "[3, 15, 75, 375, 1875, 9375, 46875, 234375, 1171875, 5859375, 29296875, 146484375, 732421875, 3662109375, 18310546875, 91552734375, 457763671875, 2288818359375, 11444091796875, 57220458984375, 286102294921875, 1430511474609375, 7152557373046875, 35762786865234375, 178813934326171875, 894069671630859375, 4470348358154296875, 22351741790771484375, 111758708953857421875, 558793544769287109375, 2793967723846435546875, 13969838619232177734375, 69849193096160888671875, 349245965480804443359375, 1746229827404022216796875, 8731149137020111083984375, 43655745685100555419921875, 218278728425502777099609375, 1091393642127513885498046875, 5456968210637569427490234375, 27284841053187847137451171875]\n"
     ]
    }
   ],
   "source": [
    "# Odd numbers\n",
    "odd_numbers_c = [i for i in c if i % 2 != 0]\n",
    "print(odd_numbers_c)"
   ]
  },
  {
   "cell_type": "code",
   "execution_count": 10,
   "id": "0e3cd6c2",
   "metadata": {},
   "outputs": [
    {
     "name": "stdout",
     "output_type": "stream",
     "text": [
      "[1875, 9375, 46875]\n"
     ]
    }
   ],
   "source": [
    "# Odd numbers, less than or equal to 100000 and greater than or equal to 1000\n",
    "print([i for i in odd_numbers_c if i >= 1000 and i <= 100000])"
   ]
  },
  {
   "cell_type": "markdown",
   "id": "f604b09b",
   "metadata": {},
   "source": [
    "   3.- You are given:\n",
    "    \n",
    "        h - the highest volume allowed for any song\n",
    "    \n",
    "        i - the initial volume before the first song\n",
    "        \n",
    "        A - a list of allowed volume changes for the following songs\n",
    "    \n",
    "    - The singer can either increase/decrease the volume of sound system for the next song by the allowed volume change A[j] for jth song from the volume of the j-1th song. \n",
    "    \n",
    "    - The singer's objective is to maximize the volume of the last song\n",
    "    \n",
    "    - The volume cannot be a negative number\n",
    "    Objective: write a function that finds the maximum volume that can be attained, or return -1 if there is no possibility of changing volume due to the given constrains. \n",
    "    \n",
    "    - Examples:\n",
    "    singer(10, 1, [4,4,4,4]) \n",
    "        1st song: can go up 4 from 1 -> volume 5; can't go down 4 from 1 (1-4 < 0)\n",
    "        2nd song: can go up 4 from 5 -> volume 9; can go down 4 from 5 -> volume 1\n",
    "        3rd song: volume 9 can't go up but can go down -> volume 5; volume 1 can't do down but can go up -> volume 5\n",
    "        4th song: volume 5 can go up -> 9; volume 5 can go down -> 1\n",
    "        Return 9\n",
    "    singer(4, 1, [4,4,4]) \n",
    "        1st song: can't go up 4 from 1 (1+4>4); can't go down 4 from 1 (1-4 < 0)\n",
    "        Return -1, can't change volume\n",
    "    singer(3, 1, [1,2,3]) \n",
    "        1st song: can go up 1 from 1 -> volume 2; can go down 1 from 1 -> volume 0\n",
    "        2nd song: can go up 2 from 2 -> volume 2; can go down 2 from 2 -> volume 0; can't go down 2 from 0; can go up 2 from 2 -> volume 2\n",
    "        3rd song: can't go up 3 from 2; can't go down 3 from 2; can't go down 3 from 0; can go up 3 from 0 -> volume 3\n",
    "        Return 3\n",
    "  "
   ]
  },
  {
   "cell_type": "code",
   "execution_count": 16,
   "id": "82476df8",
   "metadata": {},
   "outputs": [],
   "source": [
    "def max_volume(h, i, A):\n",
    "    sum_a = i + A[0]\n",
    "    rest_a = i - A[0]\n",
    "    a = -1\n",
    "    b = -1\n",
    "    if len(A[1:]) >= 1:\n",
    "        if sum_a <= h:\n",
    "            a = max_volume(h, sum_a, A[1:])\n",
    "        else:\n",
    "            a = max_volume(h, i, A[1:])\n",
    "        if rest_a >= 0:\n",
    "            b = max_volume(h, rest_a, A[1:])\n",
    "        else:\n",
    "            b = max_volume(h, i, A[1:])\n",
    "    else:\n",
    "        if sum_a <= h:\n",
    "            a = sum_a\n",
    "        if rest_a >= 0:\n",
    "            b = rest_a\n",
    "    return max(a,b)"
   ]
  },
  {
   "cell_type": "code",
   "execution_count": 17,
   "id": "abf9b190",
   "metadata": {},
   "outputs": [
    {
     "data": {
      "text/plain": [
       "3"
      ]
     },
     "execution_count": 17,
     "metadata": {},
     "output_type": "execute_result"
    }
   ],
   "source": [
    "max_volume(3, 1, [1, 2, 3])"
   ]
  },
  {
   "cell_type": "code",
   "execution_count": 19,
   "id": "a1db1114",
   "metadata": {},
   "outputs": [
    {
     "data": {
      "text/plain": [
       "-1"
      ]
     },
     "execution_count": 19,
     "metadata": {},
     "output_type": "execute_result"
    }
   ],
   "source": [
    "max_volume(4, 1, [4, 4, 4])"
   ]
  },
  {
   "cell_type": "code",
   "execution_count": 20,
   "id": "ddbc40a3",
   "metadata": {},
   "outputs": [
    {
     "data": {
      "text/plain": [
       "9"
      ]
     },
     "execution_count": 20,
     "metadata": {},
     "output_type": "execute_result"
    }
   ],
   "source": [
    "max_volume(10, 1, [4, 4, 4, 4])"
   ]
  },
  {
   "cell_type": "code",
   "execution_count": 11,
   "id": "b4084dfb",
   "metadata": {},
   "outputs": [],
   "source": [
    "a = [2]"
   ]
  },
  {
   "cell_type": "code",
   "execution_count": 12,
   "id": "ff6a8b4c",
   "metadata": {},
   "outputs": [
    {
     "data": {
      "text/plain": [
       "0"
      ]
     },
     "execution_count": 12,
     "metadata": {},
     "output_type": "execute_result"
    }
   ],
   "source": [
    "len(a[1:])"
   ]
  }
 ],
 "metadata": {
  "kernelspec": {
   "display_name": "Python 3 (ipykernel)",
   "language": "python",
   "name": "python3"
  },
  "language_info": {
   "codemirror_mode": {
    "name": "ipython",
    "version": 3
   },
   "file_extension": ".py",
   "mimetype": "text/x-python",
   "name": "python",
   "nbconvert_exporter": "python",
   "pygments_lexer": "ipython3",
   "version": "3.9.12"
  }
 },
 "nbformat": 4,
 "nbformat_minor": 5
}
